{
  "nbformat": 4,
  "nbformat_minor": 0,
  "metadata": {
    "colab": {
      "provenance": [],
      "gpuType": "T4"
    },
    "kernelspec": {
      "name": "python3",
      "display_name": "Python 3"
    },
    "language_info": {
      "name": "python"
    },
    "accelerator": "GPU"
  },
  "cells": [
    {
      "cell_type": "code",
      "execution_count": 1,
      "metadata": {
        "id": "IVpgNNRV_4bU"
      },
      "outputs": [],
      "source": [
        "import torch\n",
        "import torch.nn as nn\n",
        "import torch.nn.functional as F"
      ]
    },
    {
      "cell_type": "code",
      "source": [
        "num_classes = 10\n",
        "\n",
        "class LeNet5(nn.Module):\n",
        "  def __init__(self, num_classes):\n",
        "    super(LeNet5, self).__init__()\n",
        "\n",
        "    self.conv1 = nn.Conv2d(\n",
        "        in_channels = 1,\n",
        "        out_channels = 6,\n",
        "        kernel_size = 5\n",
        "    )\n",
        "\n",
        "    self.pool1 = nn.MaxPool2d(\n",
        "        kernel_size = 2,\n",
        "        stride = 2\n",
        "    )\n",
        "\n",
        "    self.conv2 = nn.Conv2d(\n",
        "        in_channels = 6,\n",
        "        out_channels = 16,\n",
        "        kernel_size = 5\n",
        "    )\n",
        "\n",
        "    self.pool2 = nn.MaxPool2d(\n",
        "        kernel_size = 2,\n",
        "        stride = 2\n",
        "    )\n",
        "\n",
        "    self.fc1 = nn.Linear(16 * 5 * 5, 120)\n",
        "    self.fc2 = nn.Linear(120, 84)\n",
        "\n",
        "    self.fc3 = nn.Linear(84, num_classes)\n",
        "\n",
        "  def forward(self, x):\n",
        "    x = self.pool1(F.relu(self.conv1(x)))\n",
        "    x = self.pool2(F.relu(self.conv2(x)))\n",
        "\n",
        "    x = x.view(-1, 16 * 5 * 5)\n",
        "    x = F.relu(self.fc1(x))\n",
        "    x = F.relu(self.fc2(x))\n",
        "\n",
        "    x = F.log_softmax(self.fc3(x), dim = 1)\n",
        "    return x"
      ],
      "metadata": {
        "id": "JEfBVMwEBvO4"
      },
      "execution_count": 2,
      "outputs": []
    },
    {
      "cell_type": "code",
      "source": [
        "import torchvision\n",
        "import torchvision.transforms as transforms"
      ],
      "metadata": {
        "id": "mrG6vGThF33s"
      },
      "execution_count": 3,
      "outputs": []
    },
    {
      "cell_type": "code",
      "source": [
        "transform = transforms.Compose([\n",
        "    transforms.Resize((32, 32)),\n",
        "    transforms.ToTensor(),\n",
        "    transforms.Normalize((0.5), (0.5))\n",
        "])\n",
        "\n",
        "train_dataset = torchvision.datasets.MNIST(\n",
        "    root = './data',\n",
        "    train = True,\n",
        "    transform = transform,\n",
        "    download = True\n",
        ")\n",
        "\n",
        "test_dataset = torchvision.datasets.MNIST(\n",
        "    root = './data',\n",
        "    train = False,\n",
        "    transform = transform,\n",
        "    download = True\n",
        ")\n",
        "\n",
        "train_loader = torch.utils.data.DataLoader(\n",
        "    dataset = train_dataset,\n",
        "    batch_size = 64,\n",
        "    shuffle = True\n",
        ")\n",
        "\n",
        "test_loader = torch.utils.data.DataLoader(\n",
        "    dataset = test_dataset,\n",
        "    batch_size = 64,\n",
        "    shuffle = False\n",
        ")"
      ],
      "metadata": {
        "colab": {
          "base_uri": "https://localhost:8080/"
        },
        "id": "9GSqTYbHGaMs",
        "outputId": "7fb0007d-48e5-4ee0-81f7-7b4910b4d27d"
      },
      "execution_count": 4,
      "outputs": [
        {
          "output_type": "stream",
          "name": "stdout",
          "text": [
            "Downloading http://yann.lecun.com/exdb/mnist/train-images-idx3-ubyte.gz\n",
            "Failed to download (trying next):\n",
            "HTTP Error 404: Not Found\n",
            "\n",
            "Downloading https://ossci-datasets.s3.amazonaws.com/mnist/train-images-idx3-ubyte.gz\n",
            "Downloading https://ossci-datasets.s3.amazonaws.com/mnist/train-images-idx3-ubyte.gz to ./data/MNIST/raw/train-images-idx3-ubyte.gz\n"
          ]
        },
        {
          "output_type": "stream",
          "name": "stderr",
          "text": [
            "100%|██████████| 9.91M/9.91M [00:00<00:00, 14.7MB/s]\n"
          ]
        },
        {
          "output_type": "stream",
          "name": "stdout",
          "text": [
            "Extracting ./data/MNIST/raw/train-images-idx3-ubyte.gz to ./data/MNIST/raw\n",
            "\n",
            "Downloading http://yann.lecun.com/exdb/mnist/train-labels-idx1-ubyte.gz\n",
            "Failed to download (trying next):\n",
            "HTTP Error 404: Not Found\n",
            "\n",
            "Downloading https://ossci-datasets.s3.amazonaws.com/mnist/train-labels-idx1-ubyte.gz\n",
            "Downloading https://ossci-datasets.s3.amazonaws.com/mnist/train-labels-idx1-ubyte.gz to ./data/MNIST/raw/train-labels-idx1-ubyte.gz\n"
          ]
        },
        {
          "output_type": "stream",
          "name": "stderr",
          "text": [
            "100%|██████████| 28.9k/28.9k [00:00<00:00, 488kB/s]\n"
          ]
        },
        {
          "output_type": "stream",
          "name": "stdout",
          "text": [
            "Extracting ./data/MNIST/raw/train-labels-idx1-ubyte.gz to ./data/MNIST/raw\n",
            "\n",
            "Downloading http://yann.lecun.com/exdb/mnist/t10k-images-idx3-ubyte.gz\n",
            "Failed to download (trying next):\n",
            "HTTP Error 404: Not Found\n",
            "\n",
            "Downloading https://ossci-datasets.s3.amazonaws.com/mnist/t10k-images-idx3-ubyte.gz\n",
            "Downloading https://ossci-datasets.s3.amazonaws.com/mnist/t10k-images-idx3-ubyte.gz to ./data/MNIST/raw/t10k-images-idx3-ubyte.gz\n"
          ]
        },
        {
          "output_type": "stream",
          "name": "stderr",
          "text": [
            "100%|██████████| 1.65M/1.65M [00:00<00:00, 4.40MB/s]\n"
          ]
        },
        {
          "output_type": "stream",
          "name": "stdout",
          "text": [
            "Extracting ./data/MNIST/raw/t10k-images-idx3-ubyte.gz to ./data/MNIST/raw\n",
            "\n",
            "Downloading http://yann.lecun.com/exdb/mnist/t10k-labels-idx1-ubyte.gz\n",
            "Failed to download (trying next):\n",
            "HTTP Error 404: Not Found\n",
            "\n",
            "Downloading https://ossci-datasets.s3.amazonaws.com/mnist/t10k-labels-idx1-ubyte.gz\n",
            "Downloading https://ossci-datasets.s3.amazonaws.com/mnist/t10k-labels-idx1-ubyte.gz to ./data/MNIST/raw/t10k-labels-idx1-ubyte.gz\n"
          ]
        },
        {
          "output_type": "stream",
          "name": "stderr",
          "text": [
            "100%|██████████| 4.54k/4.54k [00:00<00:00, 4.27MB/s]"
          ]
        },
        {
          "output_type": "stream",
          "name": "stdout",
          "text": [
            "Extracting ./data/MNIST/raw/t10k-labels-idx1-ubyte.gz to ./data/MNIST/raw\n",
            "\n"
          ]
        },
        {
          "output_type": "stream",
          "name": "stderr",
          "text": [
            "\n"
          ]
        }
      ]
    },
    {
      "cell_type": "code",
      "source": [
        "import torch.optim as optim"
      ],
      "metadata": {
        "id": "Fd6dP72RHgPi"
      },
      "execution_count": 5,
      "outputs": []
    },
    {
      "cell_type": "code",
      "source": [
        "device = torch.device('cuda' if torch.cuda.is_available() else 'cpu')\n",
        "\n",
        "model = LeNet5(num_classes).to(device)\n",
        "criterion = nn.CrossEntropyLoss()\n",
        "\n",
        "optimizer = optim.Adam(model.parameters(), lr = 0.001)"
      ],
      "metadata": {
        "id": "1R6XbOHNJtJy"
      },
      "execution_count": 6,
      "outputs": []
    },
    {
      "cell_type": "code",
      "source": [
        "def train(model, train_loader, criterion, optimizer, num_epochs):\n",
        "  training_losses = []\n",
        "\n",
        "  for epoch in range(num_epochs):\n",
        "    model.train()\n",
        "    running_loss = 0.0\n",
        "\n",
        "    for i, (inputs, labels) in enumerate(train_loader):\n",
        "\n",
        "      inputs, labels = inputs.to(device), labels.to(device)\n",
        "\n",
        "      optimizer.zero_grad()\n",
        "\n",
        "      outputs = model(inputs)\n",
        "      loss = criterion(outputs, labels)\n",
        "\n",
        "      loss.backward()\n",
        "      optimizer.step()\n",
        "\n",
        "      running_loss += loss.item() * inputs.size(0)\n",
        "      optimizer.step()\n",
        "\n",
        "    avg_loss = running_loss / len(train_loader)\n",
        "    training_losses.append(avg_loss)\n",
        "\n",
        "    print(f\"epoch: {epoch + 1}, loss: {avg_loss:.4f}\")\n",
        "\n",
        "  return training_losses"
      ],
      "metadata": {
        "id": "y9lPLSi1H-j1"
      },
      "execution_count": 11,
      "outputs": []
    },
    {
      "cell_type": "code",
      "source": [
        "num_epochs = 45\n",
        "\n",
        "training_losses = train(model, train_loader, criterion, optimizer, num_epochs)"
      ],
      "metadata": {
        "colab": {
          "base_uri": "https://localhost:8080/"
        },
        "id": "ePspTyrfJpfe",
        "outputId": "117ee925-1600-4363-f124-57d0599c53d5"
      },
      "execution_count": 12,
      "outputs": [
        {
          "output_type": "stream",
          "name": "stdout",
          "text": [
            "epoch: 1, loss: 0.4646\n",
            "epoch: 2, loss: 0.4688\n",
            "epoch: 3, loss: 0.6508\n",
            "epoch: 4, loss: 0.3858\n",
            "epoch: 5, loss: 0.5131\n",
            "epoch: 6, loss: 0.5437\n",
            "epoch: 7, loss: 0.3081\n",
            "epoch: 8, loss: 0.5010\n",
            "epoch: 9, loss: 0.6045\n",
            "epoch: 10, loss: 0.2846\n",
            "epoch: 11, loss: 0.4939\n",
            "epoch: 12, loss: 0.4164\n",
            "epoch: 13, loss: 0.3510\n",
            "epoch: 14, loss: 0.5297\n",
            "epoch: 15, loss: 0.4421\n",
            "epoch: 16, loss: 0.7674\n",
            "epoch: 17, loss: 0.4677\n",
            "epoch: 18, loss: 0.3933\n",
            "epoch: 19, loss: 0.5149\n",
            "epoch: 20, loss: 0.2105\n",
            "epoch: 21, loss: 0.4976\n",
            "epoch: 22, loss: 0.6173\n",
            "epoch: 23, loss: 0.5843\n",
            "epoch: 24, loss: 0.4058\n",
            "epoch: 25, loss: 0.3742\n",
            "epoch: 26, loss: 0.2821\n",
            "epoch: 27, loss: 0.5904\n",
            "epoch: 28, loss: 0.7200\n",
            "epoch: 29, loss: 0.3182\n",
            "epoch: 30, loss: 0.6152\n",
            "epoch: 31, loss: 0.3270\n",
            "epoch: 32, loss: 0.7865\n",
            "epoch: 33, loss: 0.3723\n",
            "epoch: 34, loss: 0.8687\n",
            "epoch: 35, loss: 0.4269\n",
            "epoch: 36, loss: 0.5011\n",
            "epoch: 37, loss: 0.5198\n",
            "epoch: 38, loss: 0.4186\n",
            "epoch: 39, loss: 0.5137\n",
            "epoch: 40, loss: 0.4492\n",
            "epoch: 41, loss: 0.4782\n",
            "epoch: 42, loss: 0.6160\n",
            "epoch: 43, loss: 0.4774\n",
            "epoch: 44, loss: 0.6403\n",
            "epoch: 45, loss: 0.2644\n"
          ]
        }
      ]
    },
    {
      "cell_type": "code",
      "source": [
        "training_losses"
      ],
      "metadata": {
        "colab": {
          "base_uri": "https://localhost:8080/"
        },
        "id": "Fjx4kHoBqkFp",
        "outputId": "9f93f06b-30a8-46cb-eb1e-a3aeb472b4f7"
      },
      "execution_count": 14,
      "outputs": [
        {
          "output_type": "execute_result",
          "data": {
            "text/plain": [
              "[0.46462601211014,\n",
              " 0.4688276819500106,\n",
              " 0.6508384165166712,\n",
              " 0.38583399823326436,\n",
              " 0.5131161000820934,\n",
              " 0.5436936661767091,\n",
              " 0.30812813886311846,\n",
              " 0.5010463282290917,\n",
              " 0.6044821051013124,\n",
              " 0.284636645995568,\n",
              " 0.49389790098429076,\n",
              " 0.4164323523808028,\n",
              " 0.3510230073857451,\n",
              " 0.5297393777201489,\n",
              " 0.44212308975319325,\n",
              " 0.7674045870527554,\n",
              " 0.46772033266203494,\n",
              " 0.3933477205549793,\n",
              " 0.5148831068737559,\n",
              " 0.2104836697767554,\n",
              " 0.4976011770882491,\n",
              " 0.6172807985288501,\n",
              " 0.5842625428261818,\n",
              " 0.40576617010067695,\n",
              " 0.374192196833346,\n",
              " 0.28205468465231487,\n",
              " 0.5903599913575193,\n",
              " 0.7200394507018897,\n",
              " 0.3181625589167874,\n",
              " 0.6151586305054897,\n",
              " 0.3269952172480367,\n",
              " 0.7865150933373701,\n",
              " 0.37234396157639166,\n",
              " 0.8686661299472803,\n",
              " 0.42690511438319767,\n",
              " 0.5010526254257934,\n",
              " 0.5197575819642692,\n",
              " 0.41860315204052023,\n",
              " 0.5136918238167045,\n",
              " 0.4492420530506668,\n",
              " 0.4782061625954513,\n",
              " 0.6160108804633713,\n",
              " 0.4774048068406021,\n",
              " 0.6402754694125953,\n",
              " 0.2643672906664178]"
            ]
          },
          "metadata": {},
          "execution_count": 14
        }
      ]
    },
    {
      "cell_type": "code",
      "source": [
        "import matplotlib.pyplot as plt\n",
        "\n",
        "plt.plot(training_losses)\n",
        "plt.xlabel('epochs')\n",
        "plt.ylabel('loss')\n",
        "plt.title('training_loss')\n",
        "plt.show()"
      ],
      "metadata": {
        "colab": {
          "base_uri": "https://localhost:8080/",
          "height": 472
        },
        "id": "xuPHwc-GKwNg",
        "outputId": "8fa866aa-564d-48ab-f5fe-42eb25c31fad"
      },
      "execution_count": 15,
      "outputs": [
        {
          "output_type": "display_data",
          "data": {
            "text/plain": [
              "<Figure size 640x480 with 1 Axes>"
            ],
            "image/png": "[encoded data removed]"
          },
          "metadata": {}
        }
      ]
    },
    {
      "cell_type": "code",
      "source": [
        "def predict(model, test_loader):\n",
        "  model.eval()\n",
        "  correct = 0\n",
        "  total = 0\n",
        "\n",
        "  with torch.no_grad():\n",
        "    for inputs, labels in test_loader:\n",
        "      inputs, labels = inputs.to(device), labels.to(device)\n",
        "\n",
        "      outputs = model(inputs)\n",
        "\n",
        "      _, predicted = torch.max(outputs.data, 1)\n",
        "\n",
        "      total += labels.size(0)\n",
        "      correct += (predicted == labels).sum().item()\n",
        "\n",
        "    accuracy = 100 * correct / total\n",
        "    print(f\"accuracy: {accuracy:.2f}\")"
      ],
      "metadata": {
        "id": "DpMg45pmqc9T"
      },
      "execution_count": 17,
      "outputs": []
    },
    {
      "cell_type": "code",
      "source": [
        "predict(model, test_loader)"
      ],
      "metadata": {
        "colab": {
          "base_uri": "https://localhost:8080/"
        },
        "id": "yU_RdQvJs_8a",
        "outputId": "664337ce-1bb1-47be-fd21-e5b73288922d"
      },
      "execution_count": 18,
      "outputs": [
        {
          "output_type": "stream",
          "name": "stdout",
          "text": [
            "accuracy: 99.07\n"
          ]
        }
      ]
    },
    {
      "cell_type": "code",
      "source": [],
      "metadata": {
        "id": "PtfbBSskthOX"
      },
      "execution_count": null,
      "outputs": []
    }
  ]
}